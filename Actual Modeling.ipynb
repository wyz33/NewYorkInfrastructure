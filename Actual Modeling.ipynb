{
 "cells": [
  {
   "cell_type": "code",
   "execution_count": 281,
   "metadata": {
    "collapsed": true
   },
   "outputs": [],
   "source": [
    "import pandas as pd\n",
    "import numpy as np\n",
    "from datetime import datetime\n",
    "import os,sys\n",
    "import sqlite3\n",
    "import csv\n",
    "from IPython.display import display\n",
    "from sqlalchemy import create_engine # database connection\n",
    "import datetime as dt\n",
    "import seaborn as sns\n",
    "import matplotlib.pyplot as plt\n",
    "from __future__ import division\n",
    "from sklearn.metrics import precision_recall_curve\n",
    "%matplotlib inline"
   ]
  },
  {
   "cell_type": "code",
   "execution_count": null,
   "metadata": {
    "collapsed": false
   },
   "outputs": [],
   "source": [
    "mo = pd.merge(moo, weather, how= 'inner', on='geoID')\n",
    "\n",
    "mo.to_pickle('finallistofalldata.p')"
   ]
  },
  {
   "cell_type": "code",
   "execution_count": null,
   "metadata": {
    "collapsed": false
   },
   "outputs": [],
   "source": [
    "#import all the previously processed data\n",
    "mo = pd.read_pickle('finallistofalldata.p')\n",
    "\n",
    "weather = pd.read_pickle('weather311_summary.p')"
   ]
  },
  {
   "cell_type": "code",
   "execution_count": 272,
   "metadata": {
    "collapsed": true
   },
   "outputs": [],
   "source": [
    "X = mo.drop(['geoID', 'WCount', 'Wratio', 'ColdTotal', 'NormalTotal', 'NormalDaily', 'TotalDaily', 'Ratio'], axis = 1)"
   ]
  },
  {
   "cell_type": "code",
   "execution_count": 256,
   "metadata": {
    "collapsed": false
   },
   "outputs": [
    {
     "data": {
      "text/plain": [
       "array([ 0.66555224,  0.95905912,  1.40214593, ...,  0.06258427,\n",
       "       -0.89211333, -0.78823248])"
      ]
     },
     "execution_count": 256,
     "metadata": {},
     "output_type": "execute_result"
    }
   ],
   "source": [
    "#create a random variable \n",
    "ran"
   ]
  },
  {
   "cell_type": "code",
   "execution_count": 273,
   "metadata": {
    "collapsed": false
   },
   "outputs": [],
   "source": [
    "#add to features to gauge feature importance\n",
    "X['ran1'] = ran"
   ]
  },
  {
   "cell_type": "code",
   "execution_count": 249,
   "metadata": {
    "collapsed": false
   },
   "outputs": [
    {
     "name": "stderr",
     "output_type": "stream",
     "text": [
      "/anaconda/lib/python2.7/site-packages/ipykernel/__main__.py:3: SettingWithCopyWarning: \n",
      "A value is trying to be set on a copy of a slice from a DataFrame\n",
      "\n",
      "See the caveats in the documentation: http://pandas.pydata.org/pandas-docs/stable/indexing.html#indexing-view-versus-copy\n",
      "  app.launch_new_instance()\n"
     ]
    },
    {
     "data": {
      "text/plain": [
       "0.6118721461187214"
      ]
     },
     "execution_count": 249,
     "metadata": {},
     "output_type": "execute_result"
    }
   ],
   "source": [
    "#predicting whether a census tract contains a watch-list building or not\n",
    "# making sure the classes are not too unbalanced\n",
    "y = mo['Wratio']\n",
    "#y[y<0.5] = 0\n",
    "y[y>0] = 1\n",
    "#y = y.astype(int)\n",
    "y.sum()/len(y)\n"
   ]
  },
  {
   "cell_type": "code",
   "execution_count": 250,
   "metadata": {
    "collapsed": true
   },
   "outputs": [],
   "source": [
    "from sklearn.cross_validation import StratifiedShuffleSplit, train_test_split, cross_val_score\n",
    "from sklearn.neighbors import KNeighborsClassifier\n",
    "from sklearn.svm import SVC\n",
    "from sklearn.tree import DecisionTreeClassifier\n",
    "from sklearn.ensemble import RandomForestClassifier, GradientBoostingClassifier, AdaBoostClassifier\n",
    "from sklearn.linear_model import LogisticRegression\n",
    "from sklearn.metrics import auc, roc_curve\n",
    "from sklearn.metrics import accuracy_score, precision_score, recall_score, f1_score"
   ]
  },
  {
   "cell_type": "code",
   "execution_count": 290,
   "metadata": {
    "collapsed": true
   },
   "outputs": [],
   "source": [
    "Xtrain, Xtest, ytrain, ytest = train_test_split(X, y, test_size = 0.4)"
   ]
  },
  {
   "cell_type": "code",
   "execution_count": 291,
   "metadata": {
    "collapsed": false
   },
   "outputs": [
    {
     "name": "stdout",
     "output_type": "stream",
     "text": [
      "LogisticReg\n",
      "accuracy: 0.788339670469\n",
      "precision: 0.782196969697\n",
      "recall: 0.888172043011\n",
      "f1: 0.831822759315\n",
      "\n",
      "\n",
      "AdaBoost\n",
      "accuracy: 0.785804816223\n",
      "precision: 0.786821705426\n",
      "recall: 0.87311827957\n",
      "f1: 0.827726809378\n",
      "\n",
      "\n",
      "Ada + Log\n",
      "accuracy: 0.801013941698\n",
      "precision: 0.816872427984\n",
      "recall: 0.85376344086\n",
      "f1: 0.8349106204\n",
      "\n",
      "\n"
     ]
    }
   ],
   "source": [
    "yguess = []\n",
    "models = {\n",
    "    'LogisticReg': LogisticRegression(),\n",
    "   # 'KNN': KNeighborsClassifier(n_neighbors=4),\n",
    "    #'SVC': SVC(probability=True),\n",
    "    #'RandomForest': RandomForestClassifier(),\n",
    "    #'GradientBoost': GradientBoostingClassifier(learning_rate= 0.3),\n",
    "    'AdaBoost': AdaBoostClassifier(n_estimators=100, learning_rate= 0.3)\n",
    "    \n",
    "}\n",
    "\n",
    "for name, model in models.iteritems():\n",
    "    model.fit(Xtrain, ytrain)\n",
    "    ypred = model.predict(Xtest)\n",
    "    \n",
    "    print name\n",
    "    print 'accuracy:', accuracy_score(ytest, ypred)\n",
    "    print 'precision:', precision_score(ytest, ypred)\n",
    "    print 'recall:', recall_score(ytest, ypred)\n",
    "    print 'f1:', f1_score(ytest, ypred)\n",
    "    print '\\n'\n",
    "    if name in ['AdaBoost', 'LogisticReg']:\n",
    "        yguess.append(ypred)\n",
    "    \n",
    "y_avg = np.mean(yguess, axis = 0)\n",
    "y_avg = y_avg.astype(int)\n",
    "print 'Ada + Log'\n",
    "print 'accuracy:', accuracy_score(ytest, y_avg)\n",
    "print 'precision:', precision_score(ytest, y_avg)\n",
    "print 'recall:', recall_score(ytest, y_avg)\n",
    "print 'f1:', f1_score(ytest, y_avg)\n",
    "print '\\n'"
   ]
  },
  {
   "cell_type": "code",
   "execution_count": 311,
   "metadata": {
    "collapsed": false
   },
   "outputs": [
    {
     "name": "stdout",
     "output_type": "stream",
     "text": [
      "LogisticReg auc: 0.858044603744\n",
      "AdaBoost auc: 0.857364263905\n"
     ]
    },
    {
     "data": {
      "text/plain": [
       "<matplotlib.legend.Legend at 0x12cab03d0>"
      ]
     },
     "execution_count": 311,
     "metadata": {},
     "output_type": "execute_result"
    },
    {
     "data": {
      "image/png": "[encoded data removed]",
      "text/plain": [
       "<matplotlib.figure.Figure at 0x129cab650>"
      ]
     },
     "metadata": {},
     "output_type": "display_data"
    }
   ],
   "source": [
    "\n",
    "yproba = []\n",
    "for name, model in models.iteritems():\n",
    "    \n",
    "    model.fit(Xtrain, ytrain)\n",
    "    if name in ['AdaBoost', 'LogisticReg']:\n",
    "        yproba.append(model.predict_proba(Xtest)[:, 1])\n",
    "    \n",
    "    fpr, tpr, threshold = roc_curve(ytest, model.predict_proba(Xtest)[:, 1])\n",
    "    plt.plot(fpr, tpr,  linestyle = '-', marker = '.', label = name)\n",
    "    plt.xlim([-0.01, 1])\n",
    "    plt.ylim([0, 1.02])\n",
    "    print name+' auc:', auc(fpr, tpr)\n",
    "\n",
    "#y_avg = np.mean(yproba, axis = 0)\n",
    "#fpr, tpr, threshold = roc_curve(ytest, y_avg)\n",
    "#plt.plot(fpr, tpr,  linestyle = '--',  label = 'Avg Model')\n",
    "#print 'avg auc:', auc(fpr, tpr)\n",
    "plt.xlabel('false positive rate')\n",
    "plt.ylabel('true positive rate')\n",
    "plt.title('ROC curves')\n",
    "plt.legend(loc = 'lower right')"
   ]
  },
  {
   "cell_type": "code",
   "execution_count": 313,
   "metadata": {
    "collapsed": false
   },
   "outputs": [
    {
     "name": "stdout",
     "output_type": "stream",
     "text": [
      "LogisticReg auc: 0.857364263905\n",
      "AdaBoost auc: 0.857364263905\n"
     ]
    },
    {
     "data": {
      "text/plain": [
       "<matplotlib.legend.Legend at 0x12cfe6410>"
      ]
     },
     "execution_count": 313,
     "metadata": {},
     "output_type": "execute_result"
    },
    {
     "data": {
      "image/png": "[encoded data removed]",
      "text/plain": [
       "<matplotlib.figure.Figure at 0x12c901710>"
      ]
     },
     "metadata": {},
     "output_type": "display_data"
    }
   ],
   "source": [
    "for name, model in models.iteritems():\n",
    "    \n",
    "    model.fit(Xtrain, ytrain)\n",
    "    precision, recall, thresholds = precision_recall_curve(ytest, model.predict_proba(Xtest)[:, 1])\n",
    "   \n",
    "    plt.plot(precision, recall,  linestyle = '-', marker = '.', label = name)\n",
    "   # plt.xlim([-0.01, 1])\n",
    "   # plt.ylim([0, 1.02])\n",
    "    print name+' auc:', auc(fpr, tpr)\n",
    "\n",
    "#y_avg = np.mean(yproba, axis = 0)\n",
    "#precision, recall, threshold = precision_recall_curve(ytest, y_avg)\n",
    "#plt.plot(precision, recall,  linestyle = '-', marker = '.', label = 'Avg model')\n",
    "#print 'avg auc:', auc(fpr, tpr)\n",
    "plt.xlabel('precision')\n",
    "plt.ylabel('recall')\n",
    "plt.title('PR curve')\n",
    "plt.legend(loc = 'lower left')"
   ]
  },
  {
   "cell_type": "code",
   "execution_count": 314,
   "metadata": {
    "collapsed": false
   },
   "outputs": [
    {
     "data": {
      "text/plain": [
       "AdaBoostClassifier(algorithm='SAMME.R', base_estimator=None,\n",
       "          learning_rate=0.3, n_estimators=100, random_state=None)"
      ]
     },
     "execution_count": 314,
     "metadata": {},
     "output_type": "execute_result"
    }
   ],
   "source": [
    "ada = AdaBoostClassifier( n_estimators=100, learning_rate= 0.3)\n",
    "ada.fit(Xtrain, ytrain)"
   ]
  },
  {
   "cell_type": "code",
   "execution_count": 316,
   "metadata": {
    "collapsed": false
   },
   "outputs": [
    {
     "name": "stdout",
     "output_type": "stream",
     "text": [
      "0.785804816223\n"
     ]
    },
    {
     "data": {
      "text/plain": [
       "[('TotalB', 0.11),\n",
       " ('Total', 0.10000000000000001),\n",
       " ('RC', 0.089999999999999997),\n",
       " ('OwnerRenter', 0.089999999999999997),\n",
       " ('YearBuilt', 0.080000000000000002),\n",
       " ('Long', 0.070000000000000007),\n",
       " ('NonFamFam', 0.070000000000000007),\n",
       " ('income per capita', 0.059999999999999998),\n",
       " ('total housing units', 0.059999999999999998),\n",
       " ('Lat', 0.050000000000000003),\n",
       " ('Median Age', 0.040000000000000001),\n",
       " ('AvgHouse', 0.040000000000000001),\n",
       " ('AvgFam', 0.040000000000000001),\n",
       " ('ColdDaily', 0.040000000000000001),\n",
       " ('ran1', 0.029999999999999999),\n",
       " ('PercentPopChange', 0.02),\n",
       " ('median rent', 0.01),\n",
       " ('Total Population', 0.0)]"
      ]
     },
     "execution_count": 316,
     "metadata": {},
     "output_type": "execute_result"
    }
   ],
   "source": [
    "print ada.score(Xtest, ytest)\n",
    "sorted_features = sorted(zip(X.columns,ada.feature_importances_), key=lambda tup: abs(tup[1]), reverse=True)\n",
    "sorted_features"
   ]
  },
  {
   "cell_type": "code",
   "execution_count": 77,
   "metadata": {
    "collapsed": false
   },
   "outputs": [],
   "source": [
    "import statsmodels.api as sm"
   ]
  },
  {
   "cell_type": "code",
   "execution_count": 317,
   "metadata": {
    "collapsed": false
   },
   "outputs": [
    {
     "name": "stdout",
     "output_type": "stream",
     "text": [
      "Optimization terminated successfully.\n",
      "         Current function value: 0.430467\n",
      "         Iterations 7\n"
     ]
    },
    {
     "data": {
      "text/html": [
       "<table class=\"simpletable\">\n",
       "<caption>Logit Regression Results</caption>\n",
       "<tr>\n",
       "  <th>Dep. Variable:</th>      <td>Wratio</td>      <th>  No. Observations:  </th>   <td>  1971</td>  \n",
       "</tr>\n",
       "<tr>\n",
       "  <th>Model:</th>               <td>Logit</td>      <th>  Df Residuals:      </th>   <td>  1953</td>  \n",
       "</tr>\n",
       "<tr>\n",
       "  <th>Method:</th>               <td>MLE</td>       <th>  Df Model:          </th>   <td>    17</td>  \n",
       "</tr>\n",
       "<tr>\n",
       "  <th>Date:</th>          <td>Thu, 27 Oct 2016</td> <th>  Pseudo R-squ.:     </th>   <td>0.3555</td>  \n",
       "</tr>\n",
       "<tr>\n",
       "  <th>Time:</th>              <td>21:23:15</td>     <th>  Log-Likelihood:    </th>  <td> -848.45</td> \n",
       "</tr>\n",
       "<tr>\n",
       "  <th>converged:</th>           <td>True</td>       <th>  LL-Null:           </th>  <td> -1316.4</td> \n",
       "</tr>\n",
       "<tr>\n",
       "  <th> </th>                      <td> </td>        <th>  LLR p-value:       </th> <td>4.392e-188</td>\n",
       "</tr>\n",
       "</table>\n",
       "<table class=\"simpletable\">\n",
       "<tr>\n",
       "           <td></td>              <th>coef</th>     <th>std err</th>      <th>z</th>      <th>P>|z|</th> <th>[95.0% Conf. Int.]</th> \n",
       "</tr>\n",
       "<tr>\n",
       "  <th>YearBuilt</th>           <td>   -0.0202</td> <td>    0.004</td> <td>   -4.912</td> <td> 0.000</td> <td>   -0.028    -0.012</td>\n",
       "</tr>\n",
       "<tr>\n",
       "  <th>Lat</th>                 <td>   -0.0842</td> <td>    0.706</td> <td>   -0.119</td> <td> 0.905</td> <td>   -1.469     1.300</td>\n",
       "</tr>\n",
       "<tr>\n",
       "  <th>Long</th>                <td>   -0.5382</td> <td>    0.387</td> <td>   -1.390</td> <td> 0.165</td> <td>   -1.297     0.221</td>\n",
       "</tr>\n",
       "<tr>\n",
       "  <th>RC</th>                  <td>   -0.9075</td> <td>    0.392</td> <td>   -2.316</td> <td> 0.021</td> <td>   -1.676    -0.139</td>\n",
       "</tr>\n",
       "<tr>\n",
       "  <th>TotalB</th>              <td>    0.0111</td> <td>    0.002</td> <td>    6.369</td> <td> 0.000</td> <td>    0.008     0.015</td>\n",
       "</tr>\n",
       "<tr>\n",
       "  <th>Total Population</th>    <td>   -0.0002</td> <td> 9.41e-05</td> <td>   -1.687</td> <td> 0.092</td> <td>   -0.000  2.57e-05</td>\n",
       "</tr>\n",
       "<tr>\n",
       "  <th>income per capita</th>   <td> 1.312e-05</td> <td> 4.31e-06</td> <td>    3.042</td> <td> 0.002</td> <td> 4.67e-06  2.16e-05</td>\n",
       "</tr>\n",
       "<tr>\n",
       "  <th>Median Age</th>          <td>   -0.0291</td> <td>    0.012</td> <td>   -2.332</td> <td> 0.020</td> <td>   -0.054    -0.005</td>\n",
       "</tr>\n",
       "<tr>\n",
       "  <th>total housing units</th> <td>    0.0002</td> <td>    0.000</td> <td>    1.107</td> <td> 0.268</td> <td>   -0.000     0.001</td>\n",
       "</tr>\n",
       "<tr>\n",
       "  <th>median rent</th>         <td>   -0.0004</td> <td>    0.000</td> <td>   -1.450</td> <td> 0.147</td> <td>   -0.001     0.000</td>\n",
       "</tr>\n",
       "<tr>\n",
       "  <th>OwnerRenter</th>         <td>   -0.7548</td> <td>    0.091</td> <td>   -8.256</td> <td> 0.000</td> <td>   -0.934    -0.576</td>\n",
       "</tr>\n",
       "<tr>\n",
       "  <th>NonFamFam</th>           <td>    0.1238</td> <td>    0.080</td> <td>    1.547</td> <td> 0.122</td> <td>   -0.033     0.281</td>\n",
       "</tr>\n",
       "<tr>\n",
       "  <th>AvgHouse</th>            <td>    0.5749</td> <td>    0.412</td> <td>    1.396</td> <td> 0.163</td> <td>   -0.232     1.382</td>\n",
       "</tr>\n",
       "<tr>\n",
       "  <th>AvgFam</th>              <td>    0.8483</td> <td>    0.535</td> <td>    1.586</td> <td> 0.113</td> <td>   -0.200     1.897</td>\n",
       "</tr>\n",
       "<tr>\n",
       "  <th>PercentPopChange</th>    <td>   -0.0013</td> <td>    0.001</td> <td>   -1.008</td> <td> 0.313</td> <td>   -0.004     0.001</td>\n",
       "</tr>\n",
       "<tr>\n",
       "  <th>Total</th>               <td>    0.0007</td> <td>    0.000</td> <td>    6.229</td> <td> 0.000</td> <td>    0.000     0.001</td>\n",
       "</tr>\n",
       "<tr>\n",
       "  <th>ColdDaily</th>           <td>   -0.2093</td> <td>    0.171</td> <td>   -1.221</td> <td> 0.222</td> <td>   -0.545     0.127</td>\n",
       "</tr>\n",
       "<tr>\n",
       "  <th>ran1</th>                <td>   -0.0373</td> <td>    0.059</td> <td>   -0.631</td> <td> 0.528</td> <td>   -0.153     0.079</td>\n",
       "</tr>\n",
       "</table>"
      ],
      "text/plain": [
       "<class 'statsmodels.iolib.summary.Summary'>\n",
       "\"\"\"\n",
       "                           Logit Regression Results                           \n",
       "==============================================================================\n",
       "Dep. Variable:                 Wratio   No. Observations:                 1971\n",
       "Model:                          Logit   Df Residuals:                     1953\n",
       "Method:                           MLE   Df Model:                           17\n",
       "Date:                Thu, 27 Oct 2016   Pseudo R-squ.:                  0.3555\n",
       "Time:                        21:23:15   Log-Likelihood:                -848.45\n",
       "converged:                       True   LL-Null:                       -1316.4\n",
       "                                        LLR p-value:                4.392e-188\n",
       "=======================================================================================\n",
       "                          coef    std err          z      P>|z|      [95.0% Conf. Int.]\n",
       "---------------------------------------------------------------------------------------\n",
       "YearBuilt              -0.0202      0.004     -4.912      0.000        -0.028    -0.012\n",
       "Lat                    -0.0842      0.706     -0.119      0.905        -1.469     1.300\n",
       "Long                   -0.5382      0.387     -1.390      0.165        -1.297     0.221\n",
       "RC                     -0.9075      0.392     -2.316      0.021        -1.676    -0.139\n",
       "TotalB                  0.0111      0.002      6.369      0.000         0.008     0.015\n",
       "Total Population       -0.0002   9.41e-05     -1.687      0.092        -0.000  2.57e-05\n",
       "income per capita    1.312e-05   4.31e-06      3.042      0.002      4.67e-06  2.16e-05\n",
       "Median Age             -0.0291      0.012     -2.332      0.020        -0.054    -0.005\n",
       "total housing units     0.0002      0.000      1.107      0.268        -0.000     0.001\n",
       "median rent            -0.0004      0.000     -1.450      0.147        -0.001     0.000\n",
       "OwnerRenter            -0.7548      0.091     -8.256      0.000        -0.934    -0.576\n",
       "NonFamFam               0.1238      0.080      1.547      0.122        -0.033     0.281\n",
       "AvgHouse                0.5749      0.412      1.396      0.163        -0.232     1.382\n",
       "AvgFam                  0.8483      0.535      1.586      0.113        -0.200     1.897\n",
       "PercentPopChange       -0.0013      0.001     -1.008      0.313        -0.004     0.001\n",
       "Total                   0.0007      0.000      6.229      0.000         0.000     0.001\n",
       "ColdDaily              -0.2093      0.171     -1.221      0.222        -0.545     0.127\n",
       "ran1                   -0.0373      0.059     -0.631      0.528        -0.153     0.079\n",
       "=======================================================================================\n",
       "\"\"\""
      ]
     },
     "execution_count": 317,
     "metadata": {},
     "output_type": "execute_result"
    }
   ],
   "source": [
    "logit = sm.Logit(y,X.astype(float))\n",
    "results = logit.fit()\n",
    "results.summary()"
   ]
  },
  {
   "cell_type": "markdown",
   "metadata": {},
   "source": [
    "### prepare the data for plotting in CartoDB"
   ]
  },
  {
   "cell_type": "code",
   "execution_count": 147,
   "metadata": {
    "collapsed": false
   },
   "outputs": [],
   "source": [
    "geocodes = pd.read_csv('CTpop.csv')"
   ]
  },
  {
   "cell_type": "code",
   "execution_count": 158,
   "metadata": {
    "collapsed": true
   },
   "outputs": [],
   "source": [
    "geodict = {\n",
    "    5: '2',\n",
    "    47: '3',\n",
    "    61: '1',\n",
    "    81: '4',\n",
    "    85: '5'\n",
    "    \n",
    "}"
   ]
  },
  {
   "cell_type": "code",
   "execution_count": 165,
   "metadata": {
    "collapsed": false
   },
   "outputs": [],
   "source": [
    "borogeoID = []\n",
    "for i in range(len(geocodes)):\n",
    "    m = geocodes.loc[i]\n",
    "    b = geodict[m.boroCode]\n",
    "    new = b+str(m['Unnamed: 6'])[-6:]\n",
    "    borogeoID.append(new)    \n"
   ]
  },
  {
   "cell_type": "code",
   "execution_count": 166,
   "metadata": {
    "collapsed": false
   },
   "outputs": [
    {
     "data": {
      "text/plain": [
       "2167"
      ]
     },
     "execution_count": 166,
     "metadata": {},
     "output_type": "execute_result"
    }
   ],
   "source": [
    "len(geocodes)"
   ]
  },
  {
   "cell_type": "code",
   "execution_count": 167,
   "metadata": {
    "collapsed": false
   },
   "outputs": [
    {
     "data": {
      "text/plain": [
       "2167"
      ]
     },
     "execution_count": 167,
     "metadata": {},
     "output_type": "execute_result"
    }
   ],
   "source": [
    "len(borogeoID)"
   ]
  },
  {
   "cell_type": "code",
   "execution_count": 191,
   "metadata": {
    "collapsed": true
   },
   "outputs": [],
   "source": [
    "geocodes2 = pd.concat([pd.DataFrame(borogeoID), geocodes.geoID], axis = 1)"
   ]
  },
  {
   "cell_type": "code",
   "execution_count": 213,
   "metadata": {
    "collapsed": false
   },
   "outputs": [],
   "source": [
    "geocodes2['pred'] = ada.predict(X)"
   ]
  },
  {
   "cell_type": "code",
   "execution_count": 215,
   "metadata": {
    "collapsed": false
   },
   "outputs": [],
   "source": [
    "geocodes2.columns = ['geoID', 'boro_ct_20', 'predproba', 'Wratio', 'pred']"
   ]
  },
  {
   "cell_type": "code",
   "execution_count": 180,
   "metadata": {
    "collapsed": true
   },
   "outputs": [],
   "source": [
    "mos = pd.concat([mo.geoID, mo.Wratio], axis = 1)"
   ]
  },
  {
   "cell_type": "code",
   "execution_count": 192,
   "metadata": {
    "collapsed": false
   },
   "outputs": [],
   "source": [
    "geocodes2 = pd.merge(mos, geocodes2, on='geoID')"
   ]
  },
  {
   "cell_type": "code",
   "execution_count": 183,
   "metadata": {
    "collapsed": false
   },
   "outputs": [
    {
     "data": {
      "text/plain": [
       "1971"
      ]
     },
     "execution_count": 183,
     "metadata": {},
     "output_type": "execute_result"
    }
   ],
   "source": [
    "len(geocodes2)"
   ]
  },
  {
   "cell_type": "code",
   "execution_count": 184,
   "metadata": {
    "collapsed": false
   },
   "outputs": [
    {
     "data": {
      "text/plain": [
       "1971"
      ]
     },
     "execution_count": 184,
     "metadata": {},
     "output_type": "execute_result"
    }
   ],
   "source": [
    "len(mo)"
   ]
  },
  {
   "cell_type": "code",
   "execution_count": 208,
   "metadata": {
    "collapsed": false
   },
   "outputs": [],
   "source": [
    "geocodes2 = geocodes2.drop('Wratio', axis = 1)"
   ]
  },
  {
   "cell_type": "code",
   "execution_count": 200,
   "metadata": {
    "collapsed": false
   },
   "outputs": [],
   "source": [
    "Wratio = mo.WCount/mo.TotalB"
   ]
  },
  {
   "cell_type": "code",
   "execution_count": 203,
   "metadata": {
    "collapsed": false
   },
   "outputs": [],
   "source": [
    "Wratio[Wratio>1] = 1"
   ]
  },
  {
   "cell_type": "code",
   "execution_count": 211,
   "metadata": {
    "collapsed": false
   },
   "outputs": [],
   "source": [
    "geocodes2['Wratio'] = mo.Wratio"
   ]
  },
  {
   "cell_type": "code",
   "execution_count": 237,
   "metadata": {
    "collapsed": false
   },
   "outputs": [],
   "source": [
    "for i in range(len(geocodes2)):\n",
    "    if geocodes2.loc[i]['WCount']>geocodes2.loc[i]['TotalBuildings']:\n",
    "        geocodes2.set_value(i, 'TotalBuildings', geocodes2.loc[i]['WCount'])\n",
    "        print 'yes'"
   ]
  },
  {
   "cell_type": "code",
   "execution_count": 244,
   "metadata": {
    "collapsed": false
   },
   "outputs": [],
   "source": [
    "geocodes2['ColdDaily']= mo['ColdDaily']"
   ]
  },
  {
   "cell_type": "code",
   "execution_count": 245,
   "metadata": {
    "collapsed": false
   },
   "outputs": [
    {
     "data": {
      "text/html": [
       "<div>\n",
       "<table border=\"1\" class=\"dataframe\">\n",
       "  <thead>\n",
       "    <tr style=\"text-align: right;\">\n",
       "      <th></th>\n",
       "      <th>geoID</th>\n",
       "      <th>boro_ct_20</th>\n",
       "      <th>predproba</th>\n",
       "      <th>Wratio</th>\n",
       "      <th>pred</th>\n",
       "      <th>YearBuilt</th>\n",
       "      <th>WCount</th>\n",
       "      <th>TotalBuildings</th>\n",
       "      <th>RentControl</th>\n",
       "      <th>IncomePerCapita</th>\n",
       "      <th>OwnerRenter</th>\n",
       "      <th>Total311</th>\n",
       "      <th>Cold311</th>\n",
       "      <th>ColdDaily</th>\n",
       "    </tr>\n",
       "  </thead>\n",
       "  <tbody>\n",
       "    <tr>\n",
       "      <th>0</th>\n",
       "      <td>36005000200</td>\n",
       "      <td>2000200</td>\n",
       "      <td>0.485353</td>\n",
       "      <td>0.0</td>\n",
       "      <td>0.0</td>\n",
       "      <td>1955</td>\n",
       "      <td>0.0</td>\n",
       "      <td>17</td>\n",
       "      <td>0.0</td>\n",
       "      <td>22971.0</td>\n",
       "      <td>1.389948</td>\n",
       "      <td>413</td>\n",
       "      <td>217.0</td>\n",
       "      <td>2.237113</td>\n",
       "    </tr>\n",
       "    <tr>\n",
       "      <th>1</th>\n",
       "      <td>36005000400</td>\n",
       "      <td>2000400</td>\n",
       "      <td>0.493022</td>\n",
       "      <td>1.0</td>\n",
       "      <td>0.0</td>\n",
       "      <td>1952</td>\n",
       "      <td>1.0</td>\n",
       "      <td>22</td>\n",
       "      <td>0.0</td>\n",
       "      <td>29803.0</td>\n",
       "      <td>2.733333</td>\n",
       "      <td>1064</td>\n",
       "      <td>478.0</td>\n",
       "      <td>2.426396</td>\n",
       "    </tr>\n",
       "    <tr>\n",
       "      <th>2</th>\n",
       "      <td>36005001600</td>\n",
       "      <td>2001600</td>\n",
       "      <td>0.508191</td>\n",
       "      <td>1.0</td>\n",
       "      <td>1.0</td>\n",
       "      <td>1953</td>\n",
       "      <td>1.0</td>\n",
       "      <td>20</td>\n",
       "      <td>0.0</td>\n",
       "      <td>18544.0</td>\n",
       "      <td>0.245258</td>\n",
       "      <td>2401</td>\n",
       "      <td>1233.0</td>\n",
       "      <td>2.740000</td>\n",
       "    </tr>\n",
       "    <tr>\n",
       "      <th>3</th>\n",
       "      <td>36005001900</td>\n",
       "      <td>2001900</td>\n",
       "      <td>0.498160</td>\n",
       "      <td>0.0</td>\n",
       "      <td>0.0</td>\n",
       "      <td>1922</td>\n",
       "      <td>0.0</td>\n",
       "      <td>6</td>\n",
       "      <td>0.0</td>\n",
       "      <td>16168.0</td>\n",
       "      <td>0.081152</td>\n",
       "      <td>49</td>\n",
       "      <td>32.0</td>\n",
       "      <td>2.285714</td>\n",
       "    </tr>\n",
       "    <tr>\n",
       "      <th>4</th>\n",
       "      <td>36005002000</td>\n",
       "      <td>2002000</td>\n",
       "      <td>0.500057</td>\n",
       "      <td>1.0</td>\n",
       "      <td>1.0</td>\n",
       "      <td>1963</td>\n",
       "      <td>3.0</td>\n",
       "      <td>4</td>\n",
       "      <td>0.0</td>\n",
       "      <td>14052.0</td>\n",
       "      <td>0.202439</td>\n",
       "      <td>2445</td>\n",
       "      <td>1313.0</td>\n",
       "      <td>2.741127</td>\n",
       "    </tr>\n",
       "  </tbody>\n",
       "</table>\n",
       "</div>"
      ],
      "text/plain": [
       "         geoID boro_ct_20  predproba  Wratio  pred  YearBuilt  WCount  \\\n",
       "0  36005000200    2000200   0.485353     0.0   0.0       1955     0.0   \n",
       "1  36005000400    2000400   0.493022     1.0   0.0       1952     1.0   \n",
       "2  36005001600    2001600   0.508191     1.0   1.0       1953     1.0   \n",
       "3  36005001900    2001900   0.498160     0.0   0.0       1922     0.0   \n",
       "4  36005002000    2002000   0.500057     1.0   1.0       1963     3.0   \n",
       "\n",
       "   TotalBuildings  RentControl  IncomePerCapita  OwnerRenter  Total311  \\\n",
       "0              17          0.0          22971.0     1.389948       413   \n",
       "1              22          0.0          29803.0     2.733333      1064   \n",
       "2              20          0.0          18544.0     0.245258      2401   \n",
       "3               6          0.0          16168.0     0.081152        49   \n",
       "4               4          0.0          14052.0     0.202439      2445   \n",
       "\n",
       "   Cold311  ColdDaily  \n",
       "0    217.0   2.237113  \n",
       "1    478.0   2.426396  \n",
       "2   1233.0   2.740000  \n",
       "3     32.0   2.285714  \n",
       "4   1313.0   2.741127  "
      ]
     },
     "execution_count": 245,
     "metadata": {},
     "output_type": "execute_result"
    }
   ],
   "source": [
    "geocodes2.head()"
   ]
  },
  {
   "cell_type": "code",
   "execution_count": 246,
   "metadata": {
    "collapsed": true
   },
   "outputs": [],
   "source": [
    "geocodes2.to_csv('datafordisplay.csv')"
   ]
  },
  {
   "cell_type": "code",
   "execution_count": null,
   "metadata": {
    "collapsed": true
   },
   "outputs": [],
   "source": []
  }
 ],
 "metadata": {
  "anaconda-cloud": {},
  "kernelspec": {
   "display_name": "Python [Root]",
   "language": "python",
   "name": "Python [Root]"
  },
  "language_info": {
   "codemirror_mode": {
    "name": "ipython",
    "version": 2
   },
   "file_extension": ".py",
   "mimetype": "text/x-python",
   "name": "python",
   "nbconvert_exporter": "python",
   "pygments_lexer": "ipython2",
   "version": "2.7.12"
  }
 },
 "nbformat": 4,
 "nbformat_minor": 0
}
